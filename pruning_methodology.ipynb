{
 "cells": [
  {
   "cell_type": "markdown",
   "metadata": {
    "id": "SB2kId0c5UqI"
   },
   "source": [
    "import torch\n",
    "import torch.nn as nn\n",
    "import torch.optim as optim\n",
    "import torchvision.transforms as transforms\n",
    "from torchvision.datasets import CIFAR10\n",
    "from torch.utils.data import DataLoader\n",
    "import torch.nn.functional as F\n",
    "\n",
    "# Check if CUDA is available and set the device accordingly\n",
    "device = torch.device(\"cuda\" if torch.cuda.is_available() else \"cpu\")\n",
    "print(f\"Using device: {device}\")\n",
    "\n",
    "# Define Custom CNN Model\n",
    "class CustomCNN(nn.Module):\n",
    "    def __init__(self):\n",
    "        super(CustomCNN, self).__init__()\n",
    "        # Convolutional layers\n",
    "        self.conv1 = nn.Conv2d(3, 16, kernel_size=3, stride=1, padding=1)\n",
    "        self.conv2 = nn.Conv2d(16, 32, kernel_size=3, stride=1, padding=1)\n",
    "        self.conv3 = nn.Conv2d(32, 64, kernel_size=3, stride=1, padding=1)\n",
    "        self.conv4 = nn.Conv2d(64, 128, kernel_size=3, stride=1, padding=1)\n",
    "        self.conv5 = nn.Conv2d(128, 256, kernel_size=3, stride=1, padding=1)\n",
    "        self.conv6 = nn.Conv2d(256, 512, kernel_size=3, stride=1, padding=1)\n",
    "        self.pool = nn.MaxPool2d(2, 2)  # Pooling after conv3\n",
    "\n",
    "        # Fully connected layers\n",
    "        self.fc1 = nn.Linear(8 * 8 * 512, 128)  # Adjusted input size\n",
    "        self.fc2 = nn.Linear(128, 64)\n",
    "        self.fc3 = nn.Linear(64, 10)\n",
    "\n",
    "    def forward(self, x):\n",
    "        x = F.relu(self.conv1(x))  # No pooling\n",
    "        x = F.relu(self.conv2(x))  # No pooling\n",
    "        x = self.pool(x)\n",
    "        x = F.relu(self.conv3(x))\n",
    "        x = F.relu(self.conv4(x))\n",
    "        x = self.pool(x)  # Pooling applied only after conv3\n",
    "        x = F.relu(self.conv5(x))\n",
    "        x = F.relu(self.conv6(x))\n",
    "\n",
    "        # Flatten before fully connected layers\n",
    "        x = x.view(x.size(0), -1)  # Keeps batch size intact\n",
    "        x = F.relu(self.fc1(x))\n",
    "        x = F.relu(self.fc2(x))\n",
    "        x = self.fc3(x)  # No activation (logits for classification)\n",
    "        return x"
   ]
  },
  {
   "cell_type": "code",
   "execution_count": 1,
   "metadata": {
    "id": "sSL-P3bt06hl"
   },
   "outputs": [],
   "source": [
    "import torch.nn as nn\n",
    "import torch.nn.functional as F\n",
    "\n",
    "# Define Custom CNN Model\n",
    "class CustomCNN(nn.Module):\n",
    "    def __init__(self):\n",
    "        super(CustomCNN, self).__init__()\n",
    "        # Convolutional layers\n",
    "        self.conv1 = nn.Conv2d(3, 16, kernel_size=3, stride=1, padding=1)\n",
    "        self.conv2 = nn.Conv2d(16, 32, kernel_size=3, stride=1, padding=1)\n",
    "        self.conv3 = nn.Conv2d(32, 64, kernel_size=3, stride=1, padding=1)\n",
    "        self.conv4 = nn.Conv2d(64, 128, kernel_size=3, stride=1, padding=1)\n",
    "        self.pool = nn.MaxPool2d(2, 2)  # Pooling after conv3\n",
    "\n",
    "        # Fully connected layers\n",
    "        self.fc1 = nn.Linear(8 * 8 * 128, 128)  # Adjusted input size\n",
    "        self.fc2 = nn.Linear(128, 64)\n",
    "        self.fc3 = nn.Linear(64, 10)\n",
    "\n",
    "    def forward(self, x):\n",
    "        x = F.relu(self.conv1(x))  # No pooling\n",
    "        x = F.relu(self.conv2(x))  # No pooling\n",
    "        x = self.pool(x)\n",
    "        x = F.relu(self.conv3(x))\n",
    "        x = F.relu(self.conv4(x))\n",
    "        x = self.pool(x)  # Pooling applied only after conv3\n",
    "\n",
    "        # Flatten before fully connected layers\n",
    "        x = x.view(x.size(0), -1)  # Keeps batch size intact\n",
    "        x = F.relu(self.fc1(x))\n",
    "        x = F.relu(self.fc2(x))\n",
    "        x = self.fc3(x)  # No activation (logits for classification)\n",
    "        return x"
   ]
  },
  {
   "cell_type": "code",
   "execution_count": 2,
   "metadata": {},
   "outputs": [
    {
     "name": "stdout",
     "output_type": "stream",
     "text": [
      "True\n",
      "NVIDIA GeForce RTX 4080 SUPER\n"
     ]
    }
   ],
   "source": [
    "import torch\n",
    "\n",
    "print(torch.cuda.is_available())\n",
    "print(torch.cuda.get_device_name(0))"
   ]
  },
  {
   "cell_type": "code",
   "execution_count": 3,
   "metadata": {
    "id": "52_nvMAjO4GI"
   },
   "outputs": [],
   "source": [
    "import torch.nn as nn\n",
    "import torch.nn.functional as F\n",
    "\n",
    "# Define Custom CNN Model\n",
    "class CustomCNN(nn.Module):\n",
    "    def __init__(self):\n",
    "        super(CustomCNN, self).__init__()\n",
    "        # Convolutional layers\n",
    "        self.conv1 = nn.Conv2d(3, 32, kernel_size=3, stride=1, padding=1)\n",
    "        self.conv2 = nn.Conv2d(32, 64, kernel_size=3, stride=1, padding=1)\n",
    "        self.conv3 = nn.Conv2d(64, 128, kernel_size=3, stride=1, padding=1)\n",
    "        self.conv4 = nn.Conv2d(128, 256, kernel_size=3, stride=1, padding=1)\n",
    "        self.conv5 = nn.Conv2d(256, 256, kernel_size=3, stride=1, padding=1)\n",
    "        self.pool = nn.MaxPool2d(2, 2)  # Pooling after conv3\n",
    "\n",
    "        # Fully connected layers\n",
    "        self.fc1 = nn.Linear(8 * 8 * 256, 128)  # Adjusted input size\n",
    "        self.fc2 = nn.Linear(128, 64)\n",
    "        self.fc3 = nn.Linear(64, 10)\n",
    "\n",
    "    def forward(self, x):\n",
    "        x = F.relu(self.conv1(x))  # No pooling\n",
    "        x = F.relu(self.conv2(x))  # No pooling\n",
    "        x = self.pool(x)\n",
    "        x = F.relu(self.conv3(x))\n",
    "        x = F.relu(self.conv4(x))\n",
    "        x = self.pool(x)  # Pooling applied only after conv3\n",
    "        x = F.relu(self.conv5(x))\n",
    "       # x = F.relu(self.conv6(x))\n",
    "\n",
    "        # Flatten before fully connected layers\n",
    "        x = x.view(x.size(0), -1)  # Keeps batch size intact\n",
    "        x = F.relu(self.fc1(x))\n",
    "        x = F.relu(self.fc2(x))\n",
    "        x = self.fc3(x)  # No activation (logits for classification)\n",
    "        return x"
   ]
  },
  {
   "cell_type": "code",
   "execution_count": 4,
   "metadata": {},
   "outputs": [
    {
     "name": "stdout",
     "output_type": "stream",
     "text": [
      "Using device: cuda\n"
     ]
    }
   ],
   "source": [
    "import torch\n",
    "import torch.nn as nn\n",
    "import torch.optim as optim\n",
    "import torchvision.transforms as transforms\n",
    "from torchvision.datasets import CIFAR10\n",
    "from torch.utils.data import DataLoader\n",
    "import torch.nn.functional as F\n",
    "\n",
    "# Check if CUDA is available and set the device accordingly\n",
    "device = torch.device(\"cuda\" if torch.cuda.is_available() else \"cpu\")\n",
    "print(f\"Using device: {device}\")\n",
    "\n",
    "# Define Custom CNN Model\n",
    "class CustomCNN(nn.Module):\n",
    "    def __init__(self):\n",
    "        super(CustomCNN, self).__init__()\n",
    "        # Convolutional layers\n",
    "        self.conv1 = nn.Conv2d(3, 16, kernel_size=3, stride=1, padding=1)\n",
    "        self.conv2 = nn.Conv2d(16, 32, kernel_size=3, stride=1, padding=1)\n",
    "        self.conv3 = nn.Conv2d(32, 64, kernel_size=3, stride=1, padding=1)\n",
    "        self.conv4 = nn.Conv2d(64, 128, kernel_size=3, stride=1, padding=1)\n",
    "        self.conv5 = nn.Conv2d(128, 256, kernel_size=3, stride=1, padding=1)\n",
    "        self.conv6 = nn.Conv2d(256, 512, kernel_size=3, stride=1, padding=1)\n",
    "        self.pool = nn.MaxPool2d(2, 2)  # Pooling after conv3\n",
    "\n",
    "        # Fully connected layers\n",
    "        self.fc1 = nn.Linear(8 * 8 * 512, 128)  # Adjusted input size\n",
    "        self.fc2 = nn.Linear(128, 64)\n",
    "        self.fc3 = nn.Linear(64, 10)\n",
    "\n",
    "    def forward(self, x):\n",
    "        x = F.relu(self.conv1(x))  # No pooling\n",
    "        x = F.relu(self.conv2(x))  # No pooling\n",
    "        x = self.pool(x)\n",
    "        x = F.relu(self.conv3(x))\n",
    "        x = F.relu(self.conv4(x))\n",
    "        x = self.pool(x)  # Pooling applied only after conv3\n",
    "        x = F.relu(self.conv5(x))\n",
    "        x = F.relu(self.conv6(x))\n",
    "\n",
    "        # Flatten before fully connected layers\n",
    "        x = x.view(x.size(0), -1)  # Keeps batch size intact\n",
    "        x = F.relu(self.fc1(x))\n",
    "        x = F.relu(self.fc2(x))\n",
    "        x = self.fc3(x)  # No activation (logits for classification)\n",
    "        return x"
   ]
  },
  {
   "cell_type": "code",
   "execution_count": 23,
   "metadata": {
    "colab": {
     "base_uri": "https://localhost:8080/"
    },
    "id": "K3VDegkpHyJw",
    "outputId": "aeeccb76-1164-4e55-db59-e6a42de08fb7"
   },
   "outputs": [
    {
     "name": "stdout",
     "output_type": "stream",
     "text": [
      "Model loaded successfully!\n"
     ]
    },
    {
     "name": "stderr",
     "output_type": "stream",
     "text": [
      "C:\\Users\\un6259\\AppData\\Local\\Temp\\ipykernel_3416\\1382645563.py:8: FutureWarning: You are using `torch.load` with `weights_only=False` (the current default value), which uses the default pickle module implicitly. It is possible to construct malicious pickle data which will execute arbitrary code during unpickling (See https://github.com/pytorch/pytorch/blob/main/SECURITY.md#untrusted-models for more details). In a future release, the default value for `weights_only` will be flipped to `True`. This limits the functions that could be executed during unpickling. Arbitrary objects will no longer be allowed to be loaded via this mode unless they are explicitly allowlisted by the user via `torch.serialization.add_safe_globals`. We recommend you start setting `weights_only=True` for any use case where you don't have full control of the loaded file. Please open an issue on GitHub for any issues related to this experimental feature.\n",
      "  model = torch.load(model_path)\n"
     ]
    }
   ],
   "source": [
    "import torch\n",
    "\n",
    "# Load the model architecture (define it before loading the weights)\n",
    "# Make sure your CustomCNN class is defined in your notebook, or import it if needed\n",
    "model = CustomCNN()  # Replace with your actual model class\n",
    "\n",
    "model_path = 'six_cnn_model_full.path'\n",
    "model = torch.load(model_path)\n",
    "\n",
    "model.eval()  # Set the model to evaluation mode\n",
    "print(\"Model loaded successfully!\")\n"
   ]
  },
  {
   "cell_type": "code",
   "execution_count": 6,
   "metadata": {
    "colab": {
     "base_uri": "https://localhost:8080/"
    },
    "id": "-8chss0_KYsK",
    "outputId": "320c0a2e-b747-4a2e-c8cf-5ee7e00361e4"
   },
   "outputs": [
    {
     "name": "stdout",
     "output_type": "stream",
     "text": [
      "cuda\n",
      "Files already downloaded and verified\n",
      "Accuracy: 76.77%\n"
     ]
    }
   ],
   "source": [
    "from torchvision.datasets import CIFAR10\n",
    "from torchvision.transforms import Compose, ToTensor, Normalize\n",
    "from torch.utils.data import DataLoader, Subset\n",
    "# Move model to device\n",
    "device = torch.device(\"cuda\" if torch.cuda.is_available() else \"cpu\")\n",
    "print(device)\n",
    "model = model.to(device)\n",
    "\n",
    "# Define transformation\n",
    "transform = Compose([ToTensor(), Normalize((0.5, 0.5, 0.5), (0.5, 0.5, 0.5))])\n",
    "\n",
    "# Load CIFAR-10 test dataset\n",
    "test_data = CIFAR10(root='./data', train=False, transform=transform, download=True)\n",
    "\n",
    "# Extract 100 images per class\n",
    "num_classes = 10\n",
    "samples_per_class = 1000\n",
    "class_indices = {i: [] for i in range(num_classes)}\n",
    "\n",
    "for idx, (_, label) in enumerate(test_data):\n",
    "    if len(class_indices[label]) < samples_per_class:\n",
    "        class_indices[label].append(idx)\n",
    "    if all(len(v) == samples_per_class for v in class_indices.values()):\n",
    "        break\n",
    "\n",
    "selected_indices = [idx for indices in class_indices.values() for idx in indices]\n",
    "\n",
    "# Create subset dataset\n",
    "subset_data = Subset(test_data, selected_indices)\n",
    "test_loader = DataLoader(subset_data, batch_size=1, shuffle=False)\n",
    "\n",
    "\n",
    "correct = 0\n",
    "total = 0\n",
    "with torch.no_grad():  # Disables gradient tracking\n",
    "    for images, labels in test_loader:  # Loop through the test data\n",
    "        images, labels = images.to(device), labels.to(device)  # Move to device (GPU or CPU)\n",
    "\n",
    "        # Get predictions from the model\n",
    "        outputs = model(images)\n",
    "\n",
    "        # Get the predicted class by finding the index of the max output value\n",
    "        _, predicted = torch.max(outputs, 1)\n",
    "\n",
    "        # Calculate the total number of samples and the correct predictions\n",
    "        total += labels.size(0)\n",
    "        correct += (predicted == labels).sum().item()  # Add up correct predictions\n",
    "\n",
    "# Calculate accuracy as a percentage\n",
    "accuracy = 100 * correct / total\n",
    "print(f\"Accuracy: {accuracy:.2f}%\")"
   ]
  },
  {
   "cell_type": "code",
   "execution_count": 7,
   "metadata": {
    "colab": {
     "base_uri": "https://localhost:8080/"
    },
    "id": "myRF4Sw0SCY2",
    "outputId": "283909a1-0775-4eda-cbe6-0c533b90d676"
   },
   "outputs": [
    {
     "name": "stdout",
     "output_type": "stream",
     "text": [
      "Files already downloaded and verified\n",
      "Total images selected: 10000\n",
      "Final Matrix Shape: (1008, 10000)\n",
      "Example Neuron Labels: ['conv1_0', 'conv1_1', 'conv1_2', 'conv1_3', 'conv1_4', 'conv1_5', 'conv1_6', 'conv1_7', 'conv1_8', 'conv1_9']\n"
     ]
    }
   ],
   "source": [
    "import torch\n",
    "import numpy as np\n",
    "from torchvision.datasets import CIFAR10\n",
    "from torchvision.transforms import Compose, ToTensor, Normalize\n",
    "from torch.utils.data import DataLoader, Subset\n",
    "\n",
    "# Define transformation\n",
    "transform = Compose([ToTensor(), Normalize((0.5, 0.5, 0.5), (0.5, 0.5, 0.5))])\n",
    "\n",
    "# Load CIFAR-10 test dataset\n",
    "test_data = CIFAR10(root='./data', train=False, transform=transform, download=True)\n",
    "\n",
    "# Extract 100 images per class\n",
    "num_classes = 10\n",
    "samples_per_class = 1000\n",
    "class_indices = {i: [] for i in range(num_classes)}\n",
    "\n",
    "for idx, (_, label) in enumerate(test_data):\n",
    "    if len(class_indices[label]) < samples_per_class:\n",
    "        class_indices[label].append(idx)\n",
    "    if all(len(v) == samples_per_class for v in class_indices.values()):\n",
    "        break\n",
    "\n",
    "selected_indices = [idx for indices in class_indices.values() for idx in indices]\n",
    "\n",
    "# Create subset dataset\n",
    "subset_data = Subset(test_data, selected_indices)\n",
    "test_loader = DataLoader(subset_data, batch_size=1, shuffle=False)\n",
    "\n",
    "print(f\"Total images selected: {len(selected_indices)}\")\n",
    "\n",
    "# Dictionary to store activations\n",
    "activations = {}\n",
    "\n",
    "# Function to register hooks and capture filter-wise activations\n",
    "def get_activation(name):\n",
    "    def hook(model, input, output):\n",
    "        if \"conv\" in name:\n",
    "            # Aggregate spatial locations to get a single value per filter\n",
    "            activations[name] = output.detach().cpu().numpy().mean(axis=(2, 3)).flatten()\n",
    "        else:\n",
    "            # Fully connected layers remain unchanged\n",
    "            activations[name] = output.detach().cpu().numpy().flatten()\n",
    "    return hook\n",
    "\n",
    "# Register hooks\n",
    "model.conv1.register_forward_hook(get_activation('conv1'))\n",
    "model.conv2.register_forward_hook(get_activation('conv2'))\n",
    "model.conv3.register_forward_hook(get_activation('conv3'))\n",
    "model.conv4.register_forward_hook(get_activation('conv4'))\n",
    "model.conv5.register_forward_hook(get_activation('conv5'))\n",
    "model.conv6.register_forward_hook(get_activation('conv6'))\n",
    "# model.fc1.register_forward_hook(get_activation('fc1'))\n",
    "# model.fc2.register_forward_hook(get_activation('fc2'))\n",
    "# model.fc3.register_forward_hook(get_activation('fc3'))\n",
    "\n",
    "# Loop over data to collect activations\n",
    "activation_matrix = []\n",
    "neuron_labels = []\n",
    "\n",
    "for images, labels in test_loader:\n",
    "    activations.clear()\n",
    "    images = images.to(device)\n",
    "    output = model(images)\n",
    "\n",
    "    # Ensure all layers are captured\n",
    "    #if all(key in activations for key in ['conv1', 'conv2', 'conv3', 'conv4', 'fc1', 'fc2', 'fc3']):\n",
    "    if all(key in activations for key in ['conv1', 'conv2', 'conv3', 'conv4','conv5','conv6']):\n",
    "        combined_activations = []\n",
    "\n",
    "        # for layer in ['conv1', 'conv2', 'conv3', 'conv4', 'fc1', 'fc2', 'fc3']:\n",
    "        for layer in ['conv1', 'conv2', 'conv3', 'conv4','conv5','conv6']:\n",
    "            num_units = activations[layer].shape[0]  # Number of filters in conv, neurons in FC\n",
    "            combined_activations.extend(activations[layer])\n",
    "\n",
    "            # Create readable labels: e.g., \"conv1_0\", \"conv1_1\", ..., \"fc3_10\"\n",
    "            for i in range(num_units):\n",
    "                neuron_labels.append(f\"{layer}_{i}\")\n",
    "\n",
    "        activation_matrix.append(combined_activations)\n",
    "\n",
    "# Convert to numpy array and transpose\n",
    "activation_matrix = np.array(activation_matrix).T\n",
    "print(\"Final Matrix Shape:\", activation_matrix.shape)\n",
    "\n",
    "# Save labels for reference\n",
    "#np.save(\"cnn_activation_trial_labels.npy\", neuron_labels)\n",
    "\n",
    "# Save activation matrix\n",
    "#np.save(\"cnn_activation_matrix_trials_fourlayers.npy\", activation_matrix)\n",
    "\n",
    "# Download the saved files\n",
    "#files.download(\"cnn_activation_matrix_trials_fourlayers.npy\")\n",
    "#files.download(\"cnn_activation_trial_labels.npy\")\n",
    "\n",
    "# Print a preview of the first few neuron labels\n",
    "print(\"Example Neuron Labels:\", neuron_labels[:10])\n"
   ]
  },
  {
   "cell_type": "code",
   "execution_count": 8,
   "metadata": {
    "colab": {
     "base_uri": "https://localhost:8080/"
    },
    "id": "tBOmoqJQHDgZ",
    "outputId": "189d2f62-6689-490b-c1ec-a6fe6dc3327b"
   },
   "outputs": [
    {
     "name": "stdout",
     "output_type": "stream",
     "text": [
      "Processed neuron 1/1008\n",
      "Processed neuron 101/1008\n",
      "Processed neuron 201/1008\n",
      "Processed neuron 301/1008\n",
      "Processed neuron 401/1008\n",
      "Processed neuron 501/1008\n",
      "Processed neuron 601/1008\n",
      "Processed neuron 701/1008\n",
      "Processed neuron 801/1008\n",
      "Processed neuron 901/1008\n",
      "Processed neuron 1001/1008\n",
      "Graph saved with 1008 nodes and 100181 edges\n"
     ]
    }
   ],
   "source": [
    "import torch\n",
    "import networkx as nx\n",
    "import pickle\n",
    "from sklearn.metrics.pairwise import cosine_similarity\n",
    "\n",
    "# Move activation matrix to GPU for efficiency\n",
    "activation_matrix = torch.tensor(activation_matrix, dtype=torch.float32, device=\"cuda\")\n",
    "\n",
    "# Define similarity threshold\n",
    "threshold = 0.98  # Adjustable\n",
    "\n",
    "num_neurons = activation_matrix.shape[0]\n",
    "G = nx.Graph()\n",
    "G.add_nodes_from(range(num_neurons))\n",
    "\n",
    "# Compute cosine similarity in batches for efficiency\n",
    "for i in range(num_neurons):\n",
    "    similarities = torch.nn.functional.cosine_similarity(\n",
    "        activation_matrix[i].unsqueeze(0), activation_matrix, dim=1\n",
    "    )\n",
    "\n",
    "    # Find similar neurons based on threshold\n",
    "    similar_indices = (similarities > threshold).nonzero(as_tuple=True)[0].tolist()\n",
    "\n",
    "    for j in similar_indices:\n",
    "        if j > i:  # Avoid duplicate edges\n",
    "            G.add_edge(i, j, weight=similarities[j].item())\n",
    "\n",
    "    if i % 100 == 0:  # Progress update\n",
    "        print(f\"Processed neuron {i+1}/{num_neurons}\")\n",
    "\n",
    "# save_path = \"/content/drive/My Drive/cnn_neuron_graph.pkl\"\n",
    "# with open(save_path, \"wb\") as f:\n",
    "#     pickle.dump(G, f)\n",
    "\n",
    "\n",
    "\n",
    "# Save graph\n",
    "# with open(\"cnn_neuron_graph.pkl\", \"wb\") as f:\n",
    "#     pickle.dump(G, f)\n",
    "\n",
    "# Download graph if using Colab\n",
    "#files.download(\"cnn_neuron_graph.pkl\")\n",
    "\n",
    "print(f\"Graph saved with {G.number_of_nodes()} nodes and {G.number_of_edges()} edges\")\n"
   ]
  },
  {
   "cell_type": "code",
   "execution_count": 9,
   "metadata": {
    "colab": {
     "base_uri": "https://localhost:8080/"
    },
    "id": "q7w4D4lMUNxj",
    "outputId": "ab2d7d49-6d97-48cb-d533-03c8d8b472cc"
   },
   "outputs": [
    {
     "name": "stdout",
     "output_type": "stream",
     "text": [
      "32\n"
     ]
    }
   ],
   "source": [
    "import multiprocessing\n",
    "num_workers = multiprocessing.cpu_count()  # Get max CPU cores\n",
    "print(num_workers)"
   ]
  },
  {
   "cell_type": "code",
   "execution_count": 10,
   "metadata": {
    "colab": {
     "base_uri": "https://localhost:8080/",
     "height": 67,
     "referenced_widgets": [
      "21381fe7a9454ae782e6e50d375af7eb",
      "a8396ab4b49c44ae8a89682a8fa42a4c",
      "e5dad02ffac64278be0e7009520f288a",
      "8e053502d4c64a1189e20bf7d1681fcd",
      "d0b85e4634fc42578db6c128e00155c2",
      "67f854dcf90e459b9d4296b27b8c54ae",
      "7969477f3092499d9eef1159c496a1a4",
      "e9cc5aa98cbb4150b6d6d2f59eded66f",
      "d4c974fb93d549298e54f21366e763a7",
      "d50e8c6b8b454f27a00896b49ed6f501",
      "90217509085a432cabc3ef726340bf17"
     ]
    },
    "id": "vxKv_AuRT6Dk",
    "outputId": "757d460d-890f-4d5b-eb1b-4216e35a6ae4"
   },
   "outputs": [
    {
     "name": "stderr",
     "output_type": "stream",
     "text": [
      "C:\\Users\\un6259\\AppData\\Local\\miniconda3\\envs\\tamir_research\\lib\\site-packages\\tqdm\\auto.py:21: TqdmWarning: IProgress not found. Please update jupyter and ipywidgets. See https://ipywidgets.readthedocs.io/en/stable/user_install.html\n",
      "  from .autonotebook import tqdm as notebook_tqdm\n"
     ]
    },
    {
     "name": "stdout",
     "output_type": "stream",
     "text": [
      "Graph with 1008 nodes and 100181 edges\n"
     ]
    },
    {
     "name": "stderr",
     "output_type": "stream",
     "text": [
      "Computing transition probabilities: 100%|█| 1008/1008 [00:49<00\n"
     ]
    }
   ],
   "source": [
    "from node2vec import Node2Vec\n",
    "import pickle\n",
    "import numpy as np\n",
    "\n",
    "#manual upload\n",
    "#from google.colab import files\n",
    "#uploaded = files.upload()\n",
    "# file_path = '/content/drive/MyDrive/cnn_fourlayer_neuron_graph_95_similarity.pkl'\n",
    "#save_path = \"/content/drive/My Drive/cnn_neuron_graph.pkl\"\n",
    "#with open(save_path, \"rb\") as f:\n",
    "  #G = pickle.load(f)\n",
    "\n",
    "\n",
    "print(G)\n",
    "\n",
    "#running node2vec with given hyperparams\n",
    "node2vec = Node2Vec(G, dimensions=256, walk_length=15, num_walks=20, workers=num_workers-1,p=.5,q=1)\n",
    "\n"
   ]
  },
  {
   "cell_type": "code",
   "execution_count": 11,
   "metadata": {
    "id": "zl0sbcFYto-K"
   },
   "outputs": [],
   "source": [
    "model2 = node2vec.fit(window=10, min_count=1, batch_words=128)"
   ]
  },
  {
   "cell_type": "code",
   "execution_count": 12,
   "metadata": {
    "colab": {
     "base_uri": "https://localhost:8080/"
    },
    "id": "t7_oKLvxUAV7",
    "outputId": "f22014cc-46dd-46f3-e6a4-03420bfbb308"
   },
   "outputs": [
    {
     "name": "stdout",
     "output_type": "stream",
     "text": [
      "Missing nodes: 0\n",
      "Node2Vec embeddings shape: (1008, 256)\n"
     ]
    }
   ],
   "source": [
    "#checking for missing nodes - if len(missing_nodes) > 0, there might be an issue with this code\n",
    "missing_nodes = [node for node in G.nodes() if str(node) not in model2.wv]\n",
    "print(f\"Missing nodes: {len(missing_nodes)}\")\n",
    "\n",
    "#making numpy array matching vector embeddings to nodes in graph\n",
    "embeddings = np.array([model2.wv[str(node)] for node in G.nodes()])\n",
    "#np.save(\"neuron_95_fourlayer_node2vec_embeddings_512dims.npy\", embeddings)\n",
    "\n",
    "\n",
    "#showing shape\n",
    "print(f\"Node2Vec embeddings shape: {embeddings.shape}\")"
   ]
  },
  {
   "cell_type": "code",
   "execution_count": 13,
   "metadata": {
    "id": "az0ldjexUYgB"
   },
   "outputs": [
    {
     "name": "stderr",
     "output_type": "stream",
     "text": [
      "C:\\Users\\un6259\\AppData\\Local\\miniconda3\\envs\\tamir_research\\lib\\site-packages\\sklearn\\cluster\\_kmeans.py:870: FutureWarning: The default value of `n_init` will change from 10 to 'auto' in 1.4. Set the value of `n_init` explicitly to suppress the warning\n",
      "  warnings.warn(\n"
     ]
    }
   ],
   "source": [
    "from sklearn.cluster import KMeans\n",
    "import numpy as np\n",
    "\n",
    "#activation_matrix = np.load(\"cnn_activation_matrix.npy\")\n",
    "\n",
    "#file_path = '/content/drive/MyDrive/cnn_activation_matrix_fourlayers.npy'\n",
    "\n",
    "#with open(file_path, \"rb\") as f:\n",
    "     #activation_matrix = np.load(file_path)\n",
    "\n",
    "#using kmeans for clustering\n",
    "n_clusters = 10\n",
    "kmeans_activations = KMeans(n_clusters=n_clusters, random_state=42)\n",
    "activation_labels = kmeans_activations.fit_predict(activation_matrix.to('cpu'))"
   ]
  },
  {
   "cell_type": "code",
   "execution_count": 14,
   "metadata": {
    "id": "kTXS-48Eha3l"
   },
   "outputs": [
    {
     "name": "stderr",
     "output_type": "stream",
     "text": [
      "C:\\Users\\un6259\\AppData\\Local\\miniconda3\\envs\\tamir_research\\lib\\site-packages\\sklearn\\cluster\\_kmeans.py:870: FutureWarning: The default value of `n_init` will change from 10 to 'auto' in 1.4. Set the value of `n_init` explicitly to suppress the warning\n",
      "  warnings.warn(\n"
     ]
    }
   ],
   "source": [
    "#embeddings = np.load(\"neuron_95_node2vec_embeddings\")\n",
    "# file_path = '/content/drive/MyDrive/neuron_95_fourlayer_node2vec_embeddings.npy'\n",
    "\n",
    "# with open(file_path, \"rb\") as f:\n",
    "#      embeddings = np.load(file_path)\n",
    "\n",
    "#kmeans on embeddings\n",
    "kmeans_node2vec = KMeans(n_clusters=n_clusters, random_state=42)\n",
    "node2vec_labels = kmeans_node2vec.fit_predict(embeddings)\n",
    "\n",
    "#saving the cluster labels\n",
    "#np.save(\"node2vec_95_cluster_labels.npy\", node2vec_labels)\n",
    "\n",
    "# Download the saved graph\n",
    "#files.download(\"node2vec_95_cluster_labels.npy\")"
   ]
  },
  {
   "cell_type": "code",
   "execution_count": 15,
   "metadata": {
    "colab": {
     "base_uri": "https://localhost:8080/"
    },
    "id": "GyKhk7wBUaqp",
    "outputId": "e7db152d-1a4f-4d26-e734-5a670a72fca1"
   },
   "outputs": [
    {
     "name": "stdout",
     "output_type": "stream",
     "text": [
      "ARI for Embedding and Activatrion Clusters: 0.1107\n",
      "Silhouette Score for Activation Clusters: 0.2662\n",
      "Silhouette Score for Node2Vec Clusters: 0.3427\n"
     ]
    }
   ],
   "source": [
    "from sklearn.metrics import adjusted_rand_score\n",
    "from sklearn.metrics import silhouette_score\n",
    "\n",
    "# Corrected the assert statement\n",
    "assert len(activation_labels) == len(node2vec_labels), \"Mismatch in label lengths!\"\n",
    "\n",
    "\n",
    "# Showing metrics for ARI and Silhouette Score for both\n",
    "clusters_ari = adjusted_rand_score(activation_labels.astype('int'), node2vec_labels.astype('int'))\n",
    "\n",
    "print(f\"ARI for Embedding and Activatrion Clusters: {clusters_ari:.4f}\")\n",
    "\n",
    "silhouette_activations = silhouette_score(activation_matrix.to('cpu'), activation_labels)\n",
    "print(f\"Silhouette Score for Activation Clusters: {silhouette_activations:.4f}\")\n",
    "\n",
    "silhouette_node2vec = silhouette_score(embeddings, node2vec_labels)\n",
    "print(f\"Silhouette Score for Node2Vec Clusters: {silhouette_node2vec:.4f}\")\n",
    "\n"
   ]
  },
  {
   "cell_type": "code",
   "execution_count": 16,
   "metadata": {
    "colab": {
     "base_uri": "https://localhost:8080/",
     "height": 472
    },
    "id": "A0VTiGm7U8Hm",
    "outputId": "7c2414a1-acf9-4cd6-e997-b09210f72e8b"
   },
   "outputs": [
    {
     "data": {
      "image/png": "[encoded data removed]",
      "text/plain": [
       "<Figure size 640x480 with 2 Axes>"
      ]
     },
     "metadata": {},
     "output_type": "display_data"
    }
   ],
   "source": [
    "from sklearn.manifold import TSNE\n",
    "import matplotlib.pyplot as plt\n",
    "\n",
    "\n",
    "#class labels\n",
    "#labels = np.load(\"activation_cluster_labels.npy\")\n",
    "labels = activation_labels\n",
    "\n",
    "#apply TSNE\n",
    "tsne_activation = TSNE(n_components=2, random_state=42).fit_transform(activation_matrix.to('cpu'))\n",
    "\n",
    "#visualize TNSE\n",
    "scatter = plt.scatter(tsne_activation[:, 0], tsne_activation[:, 1], c=labels)\n",
    "plt.colorbar(scatter)\n",
    "plt.title(\"TSNE of Activation Clusters\")\n",
    "plt.xlabel('Feature 1')\n",
    "plt.ylabel('Feature 2')\n",
    "plt.grid(True)\n",
    "plt.show()"
   ]
  },
  {
   "cell_type": "code",
   "execution_count": 17,
   "metadata": {
    "colab": {
     "base_uri": "https://localhost:8080/",
     "height": 472
    },
    "id": "GkC-YCDJU-sT",
    "outputId": "0e056422-2e65-4771-cb4f-a121a4c40443"
   },
   "outputs": [
    {
     "data": {
      "image/png": "[encoded data removed]",
      "text/plain": [
       "<Figure size 640x480 with 2 Axes>"
      ]
     },
     "metadata": {},
     "output_type": "display_data"
    }
   ],
   "source": [
    "from sklearn.manifold import TSNE\n",
    "import matplotlib.pyplot as plt\n",
    "#class labels\n",
    "#labels = np.load(\"node2vec_cluster_labels.npy\")\n",
    "labels = node2vec_labels\n",
    "\n",
    "#apply TSNE\n",
    "tsne_embeddings = TSNE(n_components=2, random_state=42).fit_transform(embeddings)\n",
    "\n",
    "\n",
    "#visualize TNSE\n",
    "scatter = plt.scatter(tsne_embeddings[:, 0], tsne_embeddings[:, 1], c=labels)\n",
    "plt.colorbar(scatter)\n",
    "plt.title(\"TSNE of Embeddings Clusters\")\n",
    "plt.xlabel('Feature 1')\n",
    "plt.ylabel('Feature 2')\n",
    "plt.grid(True)\n",
    "plt.show()\n"
   ]
  },
  {
   "cell_type": "code",
   "execution_count": 18,
   "metadata": {
    "colab": {
     "base_uri": "https://localhost:8080/"
    },
    "id": "rCa00RUc9yuR",
    "outputId": "2e9cb1e3-c777-400d-812f-63531e5831c9"
   },
   "outputs": [
    {
     "name": "stdout",
     "output_type": "stream",
     "text": [
      "[False False False ... False False False]\n"
     ]
    }
   ],
   "source": [
    "import numpy as np\n",
    "\n",
    "def detect_outliers_zscore(data, outlier_fraction=0.1):\n",
    "    mean = np.mean(embeddings, axis=0)\n",
    "    std = np.std(embeddings, axis=0)\n",
    "\n",
    "    # Compute Z-scores\n",
    "    z_scores = np.abs((embeddings - mean) / std)\n",
    "\n",
    "    # Get the max Z-score per point (across dimensions)\n",
    "    max_z_scores = np.max(z_scores, axis=1)\n",
    "\n",
    "    # Find the top N% most extreme points\n",
    "    threshold = np.percentile(max_z_scores, 100 - (outlier_fraction * 100))\n",
    "\n",
    "    # Mark outliers\n",
    "    outliers = max_z_scores >= threshold\n",
    "    return outliers\n",
    "\n",
    "# Example usage:\n",
    "outliers = detect_outliers_zscore(embeddings)\n",
    "\n",
    "print(outliers)\n",
    "# print(embeddings)"
   ]
  },
  {
   "cell_type": "code",
   "execution_count": 19,
   "metadata": {
    "colab": {
     "base_uri": "https://localhost:8080/"
    },
    "id": "PTaoFztdjbXJ",
    "outputId": "b4130012-80ea-400c-a0e0-c93d54a3674e"
   },
   "outputs": [
    {
     "name": "stdout",
     "output_type": "stream",
     "text": [
      "{0: 150, 1: 413, 2: 192, 3: 21, 4: 95, 5: 39, 6: 58, 7: 32, 8: 3, 9: 5}\n"
     ]
    }
   ],
   "source": [
    "import numpy as np\n",
    "unique, counts = np.unique(node2vec_labels, return_counts=True)\n",
    "print(dict(zip(unique, counts)))"
   ]
  },
  {
   "cell_type": "code",
   "execution_count": 20,
   "metadata": {
    "colab": {
     "base_uri": "https://localhost:8080/"
    },
    "id": "LZZYDPcT3sif",
    "outputId": "02d19d10-f752-4864-b415-ab3c9d692a04"
   },
   "outputs": [
    {
     "name": "stdout",
     "output_type": "stream",
     "text": [
      "Accuracy: 76.77%\n",
      "Execution time: 62.756 seconds\n"
     ]
    }
   ],
   "source": [
    "import time\n",
    "\n",
    "start_time = time.time()  # Start the timer\n",
    "\n",
    "\n",
    "# Move model to device\n",
    "device = torch.device(\"cuda\" if torch.cuda.is_available() else \"cpu\")\n",
    "model = model.to(device)\n",
    "\n",
    "correct = 0\n",
    "total = 0\n",
    "with torch.no_grad():  # Disables gradient tracking\n",
    "    for images, labels in test_loader:  # Loop through the test data\n",
    "        images, labels = images.to(device), labels.to(device)  # Move to device (GPU or CPU)\n",
    "\n",
    "        # Get predictions from the model\n",
    "        outputs = model(images)\n",
    "\n",
    "        # Get the predicted class by finding the index of the max output value\n",
    "        _, predicted = torch.max(outputs, 1)\n",
    "\n",
    "        # Calculate the total number of samples and the correct predictions\n",
    "        total += labels.size(0)\n",
    "        correct += (predicted == labels).sum().item()  # Add up correct predictions\n",
    "\n",
    "# Calculate accuracy as a percentage\n",
    "accuracy = 100 * correct / total\n",
    "print(f\"Accuracy: {accuracy:.2f}%\")\n",
    "\n",
    "# CODE HOES HERE\n",
    "end_time = time.time()  # End the timer\n",
    "elapsed_time = end_time - start_time  # Calculate elapsed time\n",
    "print(f\"Execution time: {elapsed_time:.3f} seconds\")\n"
   ]
  },
  {
   "cell_type": "code",
   "execution_count": 24,
   "metadata": {
    "colab": {
     "base_uri": "https://localhost:8080/"
    },
    "id": "d43KfbLy6lL2",
    "outputId": "1d873482-2676-4dab-f9b6-8d76814a9320"
   },
   "outputs": [
    {
     "name": "stdout",
     "output_type": "stream",
     "text": [
      "Pruned 152 neurons/filters and updated model architecture.\n"
     ]
    }
   ],
   "source": [
    "import torch\n",
    "import torch.nn as nn\n",
    "import copy\n",
    "\n",
    "def detect_most_similar(data, fraction=0.1):\n",
    "    \"\"\"\n",
    "    Detects the top N% most similar points in the dataset based on Z-scores (low variance).\n",
    "    \"\"\"\n",
    "    mean = np.mean(data, axis=0)\n",
    "    std = np.std(data, axis=0)\n",
    "\n",
    "    # Compute Z-scores\n",
    "    z_scores = np.abs((data - mean) / std)\n",
    "\n",
    "    # Get the min Z-score per point (across dimensions)\n",
    "    min_z_scores = np.max(z_scores, axis=1)\n",
    "\n",
    "    # Find the threshold to classify the lowest N% as most similar\n",
    "    threshold = np.percentile(min_z_scores, fraction * 100)\n",
    "\n",
    "    # Identify which points are most similar\n",
    "    most_similar = min_z_scores <= threshold\n",
    "    return np.where(most_similar)[0]  # Return indices of most similar points\n",
    "\n",
    "def prune_model(model, similar_indices):\n",
    "    new_model = copy.deepcopy(model)  # Create a copy to modify architecture\n",
    "\n",
    "    with torch.no_grad():\n",
    "        prev_out_channels = None  # Track output size of previous layer\n",
    "\n",
    "        for name, module in new_model.named_children():\n",
    "            if isinstance(module, nn.Conv2d):  # Pruning Convolutional Layers\n",
    "                out_channels, in_channels, kernel_h, kernel_w = module.weight.shape\n",
    "                valid_indices = [idx for idx in range(out_channels) if idx not in similar_indices]\n",
    "\n",
    "                # Create new Conv2d with fewer filters\n",
    "                new_conv = nn.Conv2d(in_channels, len(valid_indices), (kernel_h, kernel_w), \n",
    "                                     stride=module.stride, padding=module.padding, bias=(module.bias is not None))\n",
    "\n",
    "                # Copy the remaining filters' weights\n",
    "                new_conv.weight.data = module.weight.data[valid_indices].clone()\n",
    "                if module.bias is not None:\n",
    "                    new_conv.bias.data = module.bias.data[valid_indices].clone()\n",
    "\n",
    "                setattr(new_model, name, new_conv)  # Replace layer in model\n",
    "                prev_out_channels = len(valid_indices)  # Update for next layer\n",
    "\n",
    "            elif isinstance(module, nn.Linear):  # Pruning Fully Connected Layers\n",
    "                out_features, in_features = module.weight.shape\n",
    "                valid_indices = [idx for idx in range(out_features) if idx not in similar_indices]\n",
    "\n",
    "                # Adjust input features if previous layer was pruned\n",
    "                new_in_features = prev_out_channels if prev_out_channels else in_features\n",
    "\n",
    "                # Create new Linear layer with adjusted neurons\n",
    "                new_fc = nn.Linear(new_in_features, len(valid_indices), bias=(module.bias is not None))\n",
    "\n",
    "                # Copy the remaining neurons' weights\n",
    "                new_fc.weight.data = module.weight.data[valid_indices].clone()\n",
    "                if module.bias is not None:\n",
    "                    new_fc.bias.data = module.bias.data[valid_indices].clone()\n",
    "\n",
    "                setattr(new_model, name, new_fc)  # Replace layer in model\n",
    "                prev_out_channels = len(valid_indices)  # Update for next layer\n",
    "\n",
    "    print(f\"Pruned {len(similar_indices)} neurons/filters and updated model architecture.\")\n",
    "    return new_model  # Return pruned model\n",
    "\n",
    "similar_indices = detect_most_similar(embeddings, fraction=0.15)\n",
    "model = prune_model(model, similar_indices)"
   ]
  },
  {
   "cell_type": "code",
   "execution_count": 25,
   "metadata": {
    "colab": {
     "base_uri": "https://localhost:8080/"
    },
    "id": "d43KfbLy6lL2",
    "outputId": "1d873482-2676-4dab-f9b6-8d76814a9320"
   },
   "outputs": [
    {
     "ename": "RuntimeError",
     "evalue": "Given groups=1, weight of size [26, 16, 3, 3], expected input[1, 10, 32, 32] to have 16 channels, but got 10 channels instead",
     "output_type": "error",
     "traceback": [
      "\u001b[1;31m----------------------------------------------------------------\u001b[0m",
      "\u001b[1;31mRuntimeError\u001b[0m                   Traceback (most recent call last)",
      "Cell \u001b[1;32mIn[25], line 17\u001b[0m\n\u001b[0;32m     14\u001b[0m images, labels \u001b[38;5;241m=\u001b[39m images\u001b[38;5;241m.\u001b[39mto(device), labels\u001b[38;5;241m.\u001b[39mto(device)  \u001b[38;5;66;03m# Move to device (GPU or CPU)\u001b[39;00m\n\u001b[0;32m     16\u001b[0m \u001b[38;5;66;03m# Get predictions from the model\u001b[39;00m\n\u001b[1;32m---> 17\u001b[0m outputs \u001b[38;5;241m=\u001b[39m \u001b[43mmodel\u001b[49m\u001b[43m(\u001b[49m\u001b[43mimages\u001b[49m\u001b[43m)\u001b[49m\n\u001b[0;32m     19\u001b[0m \u001b[38;5;66;03m# Get the predicted class by finding the index of the max output value\u001b[39;00m\n\u001b[0;32m     20\u001b[0m _, predicted \u001b[38;5;241m=\u001b[39m torch\u001b[38;5;241m.\u001b[39mmax(outputs, \u001b[38;5;241m1\u001b[39m)\n",
      "File \u001b[1;32m~\\AppData\\Local\\miniconda3\\envs\\tamir_research\\lib\\site-packages\\torch\\nn\\modules\\module.py:1736\u001b[0m, in \u001b[0;36mModule._wrapped_call_impl\u001b[1;34m(self, *args, **kwargs)\u001b[0m\n\u001b[0;32m   1734\u001b[0m     \u001b[38;5;28;01mreturn\u001b[39;00m \u001b[38;5;28mself\u001b[39m\u001b[38;5;241m.\u001b[39m_compiled_call_impl(\u001b[38;5;241m*\u001b[39margs, \u001b[38;5;241m*\u001b[39m\u001b[38;5;241m*\u001b[39mkwargs)  \u001b[38;5;66;03m# type: ignore[misc]\u001b[39;00m\n\u001b[0;32m   1735\u001b[0m \u001b[38;5;28;01melse\u001b[39;00m:\n\u001b[1;32m-> 1736\u001b[0m     \u001b[38;5;28;01mreturn\u001b[39;00m \u001b[38;5;28mself\u001b[39m\u001b[38;5;241m.\u001b[39m_call_impl(\u001b[38;5;241m*\u001b[39margs, \u001b[38;5;241m*\u001b[39m\u001b[38;5;241m*\u001b[39mkwargs)\n",
      "File \u001b[1;32m~\\AppData\\Local\\miniconda3\\envs\\tamir_research\\lib\\site-packages\\torch\\nn\\modules\\module.py:1747\u001b[0m, in \u001b[0;36mModule._call_impl\u001b[1;34m(self, *args, **kwargs)\u001b[0m\n\u001b[0;32m   1742\u001b[0m \u001b[38;5;66;03m# If we don't have any hooks, we want to skip the rest of the logic in\u001b[39;00m\n\u001b[0;32m   1743\u001b[0m \u001b[38;5;66;03m# this function, and just call forward.\u001b[39;00m\n\u001b[0;32m   1744\u001b[0m \u001b[38;5;28;01mif\u001b[39;00m \u001b[38;5;129;01mnot\u001b[39;00m (\u001b[38;5;28mself\u001b[39m\u001b[38;5;241m.\u001b[39m_backward_hooks \u001b[38;5;129;01mor\u001b[39;00m \u001b[38;5;28mself\u001b[39m\u001b[38;5;241m.\u001b[39m_backward_pre_hooks \u001b[38;5;129;01mor\u001b[39;00m \u001b[38;5;28mself\u001b[39m\u001b[38;5;241m.\u001b[39m_forward_hooks \u001b[38;5;129;01mor\u001b[39;00m \u001b[38;5;28mself\u001b[39m\u001b[38;5;241m.\u001b[39m_forward_pre_hooks\n\u001b[0;32m   1745\u001b[0m         \u001b[38;5;129;01mor\u001b[39;00m _global_backward_pre_hooks \u001b[38;5;129;01mor\u001b[39;00m _global_backward_hooks\n\u001b[0;32m   1746\u001b[0m         \u001b[38;5;129;01mor\u001b[39;00m _global_forward_hooks \u001b[38;5;129;01mor\u001b[39;00m _global_forward_pre_hooks):\n\u001b[1;32m-> 1747\u001b[0m     \u001b[38;5;28;01mreturn\u001b[39;00m forward_call(\u001b[38;5;241m*\u001b[39margs, \u001b[38;5;241m*\u001b[39m\u001b[38;5;241m*\u001b[39mkwargs)\n\u001b[0;32m   1749\u001b[0m result \u001b[38;5;241m=\u001b[39m \u001b[38;5;28;01mNone\u001b[39;00m\n\u001b[0;32m   1750\u001b[0m called_always_called_hooks \u001b[38;5;241m=\u001b[39m \u001b[38;5;28mset\u001b[39m()\n",
      "Cell \u001b[1;32mIn[4], line 33\u001b[0m, in \u001b[0;36mCustomCNN.forward\u001b[1;34m(self, x)\u001b[0m\n\u001b[0;32m     31\u001b[0m \u001b[38;5;28;01mdef\u001b[39;00m\u001b[38;5;250m \u001b[39m\u001b[38;5;21mforward\u001b[39m(\u001b[38;5;28mself\u001b[39m, x):\n\u001b[0;32m     32\u001b[0m     x \u001b[38;5;241m=\u001b[39m F\u001b[38;5;241m.\u001b[39mrelu(\u001b[38;5;28mself\u001b[39m\u001b[38;5;241m.\u001b[39mconv1(x))  \u001b[38;5;66;03m# No pooling\u001b[39;00m\n\u001b[1;32m---> 33\u001b[0m     x \u001b[38;5;241m=\u001b[39m F\u001b[38;5;241m.\u001b[39mrelu(\u001b[38;5;28;43mself\u001b[39;49m\u001b[38;5;241;43m.\u001b[39;49m\u001b[43mconv2\u001b[49m\u001b[43m(\u001b[49m\u001b[43mx\u001b[49m\u001b[43m)\u001b[49m)  \u001b[38;5;66;03m# No pooling\u001b[39;00m\n\u001b[0;32m     34\u001b[0m     x \u001b[38;5;241m=\u001b[39m \u001b[38;5;28mself\u001b[39m\u001b[38;5;241m.\u001b[39mpool(x)\n\u001b[0;32m     35\u001b[0m     x \u001b[38;5;241m=\u001b[39m F\u001b[38;5;241m.\u001b[39mrelu(\u001b[38;5;28mself\u001b[39m\u001b[38;5;241m.\u001b[39mconv3(x))\n",
      "File \u001b[1;32m~\\AppData\\Local\\miniconda3\\envs\\tamir_research\\lib\\site-packages\\torch\\nn\\modules\\module.py:1736\u001b[0m, in \u001b[0;36mModule._wrapped_call_impl\u001b[1;34m(self, *args, **kwargs)\u001b[0m\n\u001b[0;32m   1734\u001b[0m     \u001b[38;5;28;01mreturn\u001b[39;00m \u001b[38;5;28mself\u001b[39m\u001b[38;5;241m.\u001b[39m_compiled_call_impl(\u001b[38;5;241m*\u001b[39margs, \u001b[38;5;241m*\u001b[39m\u001b[38;5;241m*\u001b[39mkwargs)  \u001b[38;5;66;03m# type: ignore[misc]\u001b[39;00m\n\u001b[0;32m   1735\u001b[0m \u001b[38;5;28;01melse\u001b[39;00m:\n\u001b[1;32m-> 1736\u001b[0m     \u001b[38;5;28;01mreturn\u001b[39;00m \u001b[38;5;28mself\u001b[39m\u001b[38;5;241m.\u001b[39m_call_impl(\u001b[38;5;241m*\u001b[39margs, \u001b[38;5;241m*\u001b[39m\u001b[38;5;241m*\u001b[39mkwargs)\n",
      "File \u001b[1;32m~\\AppData\\Local\\miniconda3\\envs\\tamir_research\\lib\\site-packages\\torch\\nn\\modules\\module.py:1747\u001b[0m, in \u001b[0;36mModule._call_impl\u001b[1;34m(self, *args, **kwargs)\u001b[0m\n\u001b[0;32m   1742\u001b[0m \u001b[38;5;66;03m# If we don't have any hooks, we want to skip the rest of the logic in\u001b[39;00m\n\u001b[0;32m   1743\u001b[0m \u001b[38;5;66;03m# this function, and just call forward.\u001b[39;00m\n\u001b[0;32m   1744\u001b[0m \u001b[38;5;28;01mif\u001b[39;00m \u001b[38;5;129;01mnot\u001b[39;00m (\u001b[38;5;28mself\u001b[39m\u001b[38;5;241m.\u001b[39m_backward_hooks \u001b[38;5;129;01mor\u001b[39;00m \u001b[38;5;28mself\u001b[39m\u001b[38;5;241m.\u001b[39m_backward_pre_hooks \u001b[38;5;129;01mor\u001b[39;00m \u001b[38;5;28mself\u001b[39m\u001b[38;5;241m.\u001b[39m_forward_hooks \u001b[38;5;129;01mor\u001b[39;00m \u001b[38;5;28mself\u001b[39m\u001b[38;5;241m.\u001b[39m_forward_pre_hooks\n\u001b[0;32m   1745\u001b[0m         \u001b[38;5;129;01mor\u001b[39;00m _global_backward_pre_hooks \u001b[38;5;129;01mor\u001b[39;00m _global_backward_hooks\n\u001b[0;32m   1746\u001b[0m         \u001b[38;5;129;01mor\u001b[39;00m _global_forward_hooks \u001b[38;5;129;01mor\u001b[39;00m _global_forward_pre_hooks):\n\u001b[1;32m-> 1747\u001b[0m     \u001b[38;5;28;01mreturn\u001b[39;00m forward_call(\u001b[38;5;241m*\u001b[39margs, \u001b[38;5;241m*\u001b[39m\u001b[38;5;241m*\u001b[39mkwargs)\n\u001b[0;32m   1749\u001b[0m result \u001b[38;5;241m=\u001b[39m \u001b[38;5;28;01mNone\u001b[39;00m\n\u001b[0;32m   1750\u001b[0m called_always_called_hooks \u001b[38;5;241m=\u001b[39m \u001b[38;5;28mset\u001b[39m()\n",
      "File \u001b[1;32m~\\AppData\\Local\\miniconda3\\envs\\tamir_research\\lib\\site-packages\\torch\\nn\\modules\\conv.py:554\u001b[0m, in \u001b[0;36mConv2d.forward\u001b[1;34m(self, input)\u001b[0m\n\u001b[0;32m    553\u001b[0m \u001b[38;5;28;01mdef\u001b[39;00m\u001b[38;5;250m \u001b[39m\u001b[38;5;21mforward\u001b[39m(\u001b[38;5;28mself\u001b[39m, \u001b[38;5;28minput\u001b[39m: Tensor) \u001b[38;5;241m-\u001b[39m\u001b[38;5;241m>\u001b[39m Tensor:\n\u001b[1;32m--> 554\u001b[0m     \u001b[38;5;28;01mreturn\u001b[39;00m \u001b[38;5;28;43mself\u001b[39;49m\u001b[38;5;241;43m.\u001b[39;49m\u001b[43m_conv_forward\u001b[49m\u001b[43m(\u001b[49m\u001b[38;5;28;43minput\u001b[39;49m\u001b[43m,\u001b[49m\u001b[43m \u001b[49m\u001b[38;5;28;43mself\u001b[39;49m\u001b[38;5;241;43m.\u001b[39;49m\u001b[43mweight\u001b[49m\u001b[43m,\u001b[49m\u001b[43m \u001b[49m\u001b[38;5;28;43mself\u001b[39;49m\u001b[38;5;241;43m.\u001b[39;49m\u001b[43mbias\u001b[49m\u001b[43m)\u001b[49m\n",
      "File \u001b[1;32m~\\AppData\\Local\\miniconda3\\envs\\tamir_research\\lib\\site-packages\\torch\\nn\\modules\\conv.py:549\u001b[0m, in \u001b[0;36mConv2d._conv_forward\u001b[1;34m(self, input, weight, bias)\u001b[0m\n\u001b[0;32m    537\u001b[0m \u001b[38;5;28;01mif\u001b[39;00m \u001b[38;5;28mself\u001b[39m\u001b[38;5;241m.\u001b[39mpadding_mode \u001b[38;5;241m!=\u001b[39m \u001b[38;5;124m\"\u001b[39m\u001b[38;5;124mzeros\u001b[39m\u001b[38;5;124m\"\u001b[39m:\n\u001b[0;32m    538\u001b[0m     \u001b[38;5;28;01mreturn\u001b[39;00m F\u001b[38;5;241m.\u001b[39mconv2d(\n\u001b[0;32m    539\u001b[0m         F\u001b[38;5;241m.\u001b[39mpad(\n\u001b[0;32m    540\u001b[0m             \u001b[38;5;28minput\u001b[39m, \u001b[38;5;28mself\u001b[39m\u001b[38;5;241m.\u001b[39m_reversed_padding_repeated_twice, mode\u001b[38;5;241m=\u001b[39m\u001b[38;5;28mself\u001b[39m\u001b[38;5;241m.\u001b[39mpadding_mode\n\u001b[1;32m   (...)\u001b[0m\n\u001b[0;32m    547\u001b[0m         \u001b[38;5;28mself\u001b[39m\u001b[38;5;241m.\u001b[39mgroups,\n\u001b[0;32m    548\u001b[0m     )\n\u001b[1;32m--> 549\u001b[0m \u001b[38;5;28;01mreturn\u001b[39;00m \u001b[43mF\u001b[49m\u001b[38;5;241;43m.\u001b[39;49m\u001b[43mconv2d\u001b[49m\u001b[43m(\u001b[49m\n\u001b[0;32m    550\u001b[0m \u001b[43m    \u001b[49m\u001b[38;5;28;43minput\u001b[39;49m\u001b[43m,\u001b[49m\u001b[43m \u001b[49m\u001b[43mweight\u001b[49m\u001b[43m,\u001b[49m\u001b[43m \u001b[49m\u001b[43mbias\u001b[49m\u001b[43m,\u001b[49m\u001b[43m \u001b[49m\u001b[38;5;28;43mself\u001b[39;49m\u001b[38;5;241;43m.\u001b[39;49m\u001b[43mstride\u001b[49m\u001b[43m,\u001b[49m\u001b[43m \u001b[49m\u001b[38;5;28;43mself\u001b[39;49m\u001b[38;5;241;43m.\u001b[39;49m\u001b[43mpadding\u001b[49m\u001b[43m,\u001b[49m\u001b[43m \u001b[49m\u001b[38;5;28;43mself\u001b[39;49m\u001b[38;5;241;43m.\u001b[39;49m\u001b[43mdilation\u001b[49m\u001b[43m,\u001b[49m\u001b[43m \u001b[49m\u001b[38;5;28;43mself\u001b[39;49m\u001b[38;5;241;43m.\u001b[39;49m\u001b[43mgroups\u001b[49m\n\u001b[0;32m    551\u001b[0m \u001b[43m\u001b[49m\u001b[43m)\u001b[49m\n",
      "\u001b[1;31mRuntimeError\u001b[0m: Given groups=1, weight of size [26, 16, 3, 3], expected input[1, 10, 32, 32] to have 16 channels, but got 10 channels instead"
     ]
    }
   ],
   "source": [
    "import time\n",
    "\n",
    "start_time = time.time()  # Start the timer\n",
    "\n",
    "\n",
    "# Move model to device\n",
    "device = torch.device(\"cuda\" if torch.cuda.is_available() else \"cpu\")\n",
    "model = model.to(device)\n",
    "\n",
    "correct = 0\n",
    "total = 0\n",
    "with torch.no_grad():  # Disables gradient tracking\n",
    "    for images, labels in test_loader:  # Loop through the test data\n",
    "        images, labels = images.to(device), labels.to(device)  # Move to device (GPU or CPU)\n",
    "\n",
    "        # Get predictions from the model\n",
    "        outputs = model(images)\n",
    "\n",
    "        # Get the predicted class by finding the index of the max output value\n",
    "        _, predicted = torch.max(outputs, 1)\n",
    "\n",
    "        # Calculate the total number of samples and the correct predictions\n",
    "        total += labels.size(0)\n",
    "        correct += (predicted == labels).sum().item()  # Add up correct predictions\n",
    "\n",
    "# Calculate accuracy as a percentage\n",
    "accuracy = 100 * correct / total\n",
    "print(f\"Accuracy: {accuracy:.2f}%\")\n",
    "\n",
    "# CODE HOES HERE\n",
    "end_time = time.time()  # End the timer\n",
    "elapsed_time = end_time - start_time  # Calculate elapsed time\n",
    "print(f\"Execution time: {elapsed_time:.3f} seconds\")\n"
   ]
  },
  {
   "cell_type": "code",
   "execution_count": 21,
   "metadata": {
    "id": "-HWvHZqPi0lN"
   },
   "outputs": [
    {
     "name": "stdout",
     "output_type": "stream",
     "text": [
      "Pruned 152 neurons/filters and updated model architecture.\n"
     ]
    }
   ],
   "source": [
    "import torch\n",
    "import torch.nn as nn\n",
    "import copy\n",
    "def detect_most_similar(data, fraction=0.1):\n",
    "    \"\"\"\n",
    "    Detects the top N% most similar points in the dataset based on Z-scores (low variance).\n",
    "    \"\"\"\n",
    "    mean = np.mean(data, axis=0)\n",
    "    std = np.std(data, axis=0)\n",
    "\n",
    "    # Compute Z-scores\n",
    "    z_scores = np.abs((data - mean) / std)\n",
    "\n",
    "    # Get the min Z-score per point (across dimensions)\n",
    "    min_z_scores = np.max(z_scores, axis=1)\n",
    "\n",
    "    # Find the threshold to classify the lowest N% as most similar\n",
    "    threshold = np.percentile(min_z_scores, fraction * 100)\n",
    "\n",
    "    # Identify which points are most similar\n",
    "    most_similar = min_z_scores <= threshold\n",
    "    return np.where(most_similar)[0]  # Return indices of most similar points\n",
    "\n",
    "def prune_model(model, similar_indices):\n",
    "    \"\"\"\n",
    "    Prunes neurons (fully connected layers) or filters (conv layers) based on similarity indices.\n",
    "    This modifies the model's architecture to remove pruned parameters.\n",
    "    \"\"\"\n",
    "    new_model = copy.deepcopy(model)  # Create a copy to modify architecture\n",
    "\n",
    "    with torch.no_grad():\n",
    "        for name, module in new_model.named_children():\n",
    "            if isinstance(module, nn.Conv2d):  # Convolutional layer (filters)\n",
    "                out_channels, in_channels, kernel_h, kernel_w = module.weight.shape\n",
    "                valid_indices = [idx for idx in range(out_channels) if idx not in similar_indices]\n",
    "\n",
    "                # Create new Conv2d with fewer filters\n",
    "                new_conv = nn.Conv2d(in_channels, len(valid_indices), (kernel_h, kernel_w),\n",
    "                                     stride=module.stride, padding=module.padding, bias=(module.bias is not None))\n",
    "\n",
    "                # Copy the remaining filters' weights\n",
    "                new_conv.weight.data = module.weight.data[valid_indices].clone()\n",
    "                if module.bias is not None:\n",
    "                    new_conv.bias.data = module.bias.data[valid_indices].clone()\n",
    "\n",
    "                setattr(new_model, name, new_conv)  # Replace layer in model\n",
    "\n",
    "            elif isinstance(module, nn.Linear):  # Fully connected layer (neurons)\n",
    "                out_features, in_features = module.weight.shape\n",
    "                valid_indices = [idx for idx in range(out_features) if idx not in similar_indices]\n",
    "\n",
    "                # Create new Linear layer with fewer neurons\n",
    "                new_fc = nn.Linear(in_features, len(valid_indices), bias=(module.bias is not None))\n",
    "\n",
    "                # Copy the remaining neurons' weights\n",
    "                new_fc.weight.data = module.weight.data[valid_indices].clone()\n",
    "                if module.bias is not None:\n",
    "                    new_fc.bias.data = module.bias.data[valid_indices].clone()\n",
    "\n",
    "                setattr(new_model, name, new_fc)  # Replace layer in model\n",
    "\n",
    "    print(f\"Pruned {len(similar_indices)} neurons/filters and updated model architecture.\")\n",
    "    return new_model  # Return pruned model\n",
    "similar_indices = detect_most_similar(embeddings, fraction=0.15)\n",
    "model = prune_model(model, similar_indices)\n",
    "\n",
    "# Example Usage:\n",
    "# model = YourModel()\n",
    "# similar_indices = [0, 2, 5]  # Example filter/neuron indices to prune\n",
    "# pruned_model = prune_model(model, similar_indices)"
   ]
  },
  {
   "cell_type": "code",
   "execution_count": null,
   "metadata": {},
   "outputs": [],
   "source": []
  },
  {
   "cell_type": "code",
   "execution_count": null,
   "metadata": {},
   "outputs": [],
   "source": []
  },
  {
   "cell_type": "code",
   "execution_count": null,
   "metadata": {
    "id": "lUnOVcLVlAxb"
   },
   "outputs": [],
   "source": [
    "import numpy as np\n",
    "import torch\n",
    "\n",
    "def detect_most_similar(data, fraction=0.1):\n",
    "    \"\"\"\n",
    "    Detects the top N% most similar points in the dataset based on Z-scores (low variance).\n",
    "    \"\"\"\n",
    "    mean = np.mean(data, axis=0)\n",
    "    std = np.std(data, axis=0)\n",
    "\n",
    "    # Compute Z-scores\n",
    "    z_scores = np.abs((data - mean) / std)\n",
    "\n",
    "    # Get the min Z-score per point (across dimensions)\n",
    "    min_z_scores = np.max(z_scores, axis=1)\n",
    "\n",
    "    # Find the threshold to classify the lowest N% as most similar\n",
    "    threshold = np.percentile(min_z_scores, fraction * 100)\n",
    "\n",
    "    # Identify which points are most similar\n",
    "    most_similar = min_z_scores <= threshold\n",
    "    return np.where(most_similar)[0]  # Return indices of most similar points\n",
    "\n",
    "def deactivate_similar_neurons(model, similar_indices):\n",
    "    \"\"\"\n",
    "    Deactivates neurons (fully connected layers) or filters (conv layers) based on similarity indices.\n",
    "    \"\"\"\n",
    "    with torch.no_grad():  # Disable gradients for weight updates\n",
    "        for name, param in model.named_parameters():\n",
    "            if \"conv\" in name:  # Convolutional layer (filters)\n",
    "                num_filters = param.shape[0]\n",
    "\n",
    "                # Ensure we only deactivate valid indices\n",
    "                valid_similar = [idx for idx in similar_indices if idx < num_filters]\n",
    "\n",
    "                # Set the selected filters to zero\n",
    "                for idx in valid_similar:\n",
    "                    param.data[idx] = 0\n",
    "\n",
    "            elif \"fc\" in name:  # Fully connected layer (neurons)\n",
    "                num_neurons = param.shape[0]\n",
    "\n",
    "                # Ensure we only deactivate valid indices\n",
    "                valid_similar = [idx for idx in similar_indices if idx < num_neurons]\n",
    "\n",
    "                # Set the selected neurons to zero\n",
    "                for idx in valid_similar:\n",
    "                    param.data[idx] = 0\n",
    "\n",
    "    print(f\"Deactivated {len(similar_indices)} neurons/filters as most similar.\")\n",
    "\n",
    "# Example usage:\n",
    "similar_indices = detect_most_similar(embeddings, fraction=0.15)\n",
    "deactivate_similar_neurons(model, similar_indices)\n"
   ]
  },
  {
   "cell_type": "code",
   "execution_count": null,
   "metadata": {
    "colab": {
     "base_uri": "https://localhost:8080/",
     "height": 347
    },
    "id": "pcvsQxpEa5e1",
    "outputId": "67ccb173-78f5-44f8-8b95-250a884a8a76"
   },
   "outputs": [],
   "source": [
    "import torch\n",
    "import torch.nn as nn\n",
    "import copy\n",
    "import numpy as np\n",
    "\n",
    "def get_similar_indices(model, threshold=0.1):\n",
    "    \"\"\"\n",
    "    Automatically determines similar filters or neurons based on L2 norm similarity.\n",
    "    Filters or neurons with L2 norms below the threshold are considered similar (to be pruned).\n",
    "    \"\"\"\n",
    "    similar_indices = []\n",
    "\n",
    "    with torch.no_grad():\n",
    "        for name, module in model.named_children():\n",
    "            if isinstance(module, nn.Conv2d):  # Convolutional layer (filters)\n",
    "                filter_norms = torch.norm(module.weight.data, dim=(1, 2, 3))  # L2 norm per filter\n",
    "                low_norm_indices = torch.nonzero(filter_norms < threshold).squeeze().tolist()\n",
    "                similar_indices.extend(low_norm_indices)\n",
    "\n",
    "            elif isinstance(module, nn.Linear):  # Fully connected layer (neurons)\n",
    "                neuron_norms = torch.norm(module.weight.data, dim=1)  # L2 norm per neuron\n",
    "                low_norm_indices = torch.nonzero(neuron_norms < threshold).squeeze().tolist()\n",
    "                similar_indices.extend(low_norm_indices)\n",
    "\n",
    "    return similar_indices\n",
    "\n",
    "def prune_model(model, similar_indices):\n",
    "    \"\"\"\n",
    "    Prunes neurons (fully connected layers) or filters (conv layers) based on similarity indices.\n",
    "    This modifies the model's architecture to remove pruned parameters.\n",
    "    \"\"\"\n",
    "    new_model = copy.deepcopy(model)  # Create a copy to modify architecture\n",
    "\n",
    "    with torch.no_grad():\n",
    "        for name, module in new_model.named_children():\n",
    "            if isinstance(module, nn.Conv2d):  # Convolutional layer (filters)\n",
    "                out_channels, in_channels, kernel_h, kernel_w = module.weight.shape\n",
    "                valid_indices = [idx for idx in range(out_channels) if idx not in similar_indices]\n",
    "\n",
    "                # Create new Conv2d with fewer filters\n",
    "                new_conv = nn.Conv2d(in_channels, len(valid_indices), (kernel_h, kernel_w),\n",
    "                                     stride=module.stride, padding=module.padding, bias=(module.bias is not None))\n",
    "\n",
    "                # Copy the remaining filters' weights\n",
    "                new_conv.weight.data = module.weight.data[valid_indices].clone()\n",
    "                if module.bias is not None:\n",
    "                    new_conv.bias.data = module.bias.data[valid_indices].clone()\n",
    "\n",
    "                setattr(new_model, name, new_conv)  # Replace layer in model\n",
    "\n",
    "            elif isinstance(module, nn.Linear):  # Fully connected layer (neurons)\n",
    "                out_features, in_features = module.weight.shape\n",
    "                valid_indices = [idx for idx in range(out_features) if idx not in similar_indices]\n",
    "\n",
    "                # Create new Linear layer with fewer neurons\n",
    "                new_fc = nn.Linear(in_features, len(valid_indices), bias=(module.bias is not None))\n",
    "\n",
    "                # Copy the remaining neurons' weights\n",
    "                new_fc.weight.data = module.weight.data[valid_indices].clone()\n",
    "                if module.bias is not None:\n",
    "                    new_fc.bias.data = module.bias.data[valid_indices].clone()\n",
    "\n",
    "                setattr(new_model, name, new_fc)  # Replace layer in model\n",
    "\n",
    "    print(f\"Pruned {len(similar_indices)} neurons/filters and updated model architecture.\")\n",
    "    return new_model  # Return pruned model\n",
    "\n",
    "# Example Usage:\n",
    "# model = YourModel()  # Load your model\n",
    "similar_indices = get_similar_indices(model, threshold=0.1)  # Automatically detect similar filters/neurons\n",
    "pruned_model = prune_model(model, similar_indices)  # Prune the model based on detected indices\n"
   ]
  },
  {
   "cell_type": "code",
   "execution_count": null,
   "metadata": {
    "colab": {
     "base_uri": "https://localhost:8080/"
    },
    "id": "CW9bWHen5zUz",
    "outputId": "7da17368-b206-4618-d07d-91fb12845a70"
   },
   "outputs": [],
   "source": [
    "def check_pruned_layers(model):\n",
    "    for name, param in model.named_parameters():\n",
    "        if \"conv\" in name:  # Check convolutional layers (filters)\n",
    "            num_filters = param.shape[0]  # Number of filters\n",
    "            # Check if any filter is fully zeroed\n",
    "            for i in range(num_filters):\n",
    "                if torch.sum(param.data[i]) == 0:\n",
    "                    print(f\"Filter {i} in {name} is zeroed out.\")\n",
    "\n",
    "        elif \"fc\" in name:  # Check fully connected layers (neurons)\n",
    "            num_neurons = param.shape[0]  # Number of neurons\n",
    "            # Check if any neuron is fully zeroed\n",
    "            for i in range(num_neurons):\n",
    "                if torch.sum(param.data[i]) == 0:\n",
    "                    print(f\"Neuron {i} in {name} is zeroed out.\")\n",
    "\n",
    "# Run the function after pruning\n",
    "check_pruned_layers(model)\n"
   ]
  },
  {
   "cell_type": "code",
   "execution_count": null,
   "metadata": {
    "colab": {
     "base_uri": "https://localhost:8080/"
    },
    "id": "yRGmlFBW_8kw",
    "outputId": "43234ca7-bf54-432f-e10d-05bb51f7ddf2"
   },
   "outputs": [],
   "source": [
    "import numpy as np\n",
    "import torch\n",
    "\n",
    "def detect_outliers_zscore(data, outlier_fraction=0.1):\n",
    "    \"\"\"\n",
    "    Detects the top N% most extreme outliers in the dataset using Z-scores.\n",
    "    \"\"\"\n",
    "    mean = np.mean(data, axis=0)\n",
    "    std = np.std(data, axis=0)\n",
    "\n",
    "    # Compute Z-scores\n",
    "    z_scores = np.abs((data - mean) / std)\n",
    "\n",
    "    # Get the max Z-score per point (across dimensions)\n",
    "    max_z_scores = np.max(z_scores, axis=1)\n",
    "\n",
    "    # Find the threshold to classify top N% as outliers\n",
    "    threshold = np.percentile(max_z_scores, 100 - (outlier_fraction * 100))\n",
    "\n",
    "    # Identify which points are outliers\n",
    "    outliers = max_z_scores >= threshold\n",
    "    return np.where(outliers)[0]  # Return indices of outliers\n",
    "\n",
    "def deactivate_outlier_neurons(model, outlier_indices):\n",
    "    \"\"\"\n",
    "    Deactivates neurons (fully connected layers) or filters (conv layers) based on outlier indices.\n",
    "    \"\"\"\n",
    "    with torch.no_grad():  # Disable gradients for weight updates\n",
    "        for name, param in model.named_parameters():\n",
    "            if \"conv\" in name:  # Convolutional layer (filters)\n",
    "                num_filters = param.shape[0]\n",
    "\n",
    "                # Ensure we only deactivate valid indices\n",
    "                valid_outliers = [idx for idx in outlier_indices if idx < num_filters]\n",
    "\n",
    "                # Set the selected filters to zero\n",
    "                for idx in valid_outliers:\n",
    "                    param.data[idx] = 0\n",
    "\n",
    "            elif \"fc\" in name:  # Fully connected layer (neurons)\n",
    "                num_neurons = param.shape[0]\n",
    "\n",
    "                # Ensure we only deactivate valid indices\n",
    "                valid_outliers = [idx for idx in outlier_indices if idx < num_neurons]\n",
    "\n",
    "                # Set the selected neurons to zero\n",
    "                for idx in valid_outliers:\n",
    "                    param.data[idx] = 0\n",
    "\n",
    "    print(f\"Deactivated {len(outlier_indices)} neurons/filters as outliers.\")\n",
    "\n",
    "# Example usage:\n",
    "outlier_indices = detect_outliers_zscore(embeddings, outlier_fraction=0.1)\n",
    "deactivate_outlier_neurons(model, outlier_indices)"
   ]
  },
  {
   "cell_type": "code",
   "execution_count": null,
   "metadata": {
    "id": "l9ftRrotgPan"
   },
   "outputs": [],
   "source": []
  },
  {
   "cell_type": "code",
   "execution_count": null,
   "metadata": {
    "colab": {
     "base_uri": "https://localhost:8080/"
    },
    "id": "3f_sAX0y3pfK",
    "outputId": "5d862554-7221-460b-a1e7-37e481203d55"
   },
   "outputs": [],
   "source": [
    "import torch\n",
    "import random\n",
    "\n",
    "def deactivate_neurons_by_cluster(model, node2vec_labels, target_cluster, deactivation_percentage=0.2):\n",
    "    \"\"\"\n",
    "    Deactivate neurons in a specified cluster by setting their weights to zero.\n",
    "\n",
    "    model: The trained neural network model\n",
    "    node2vec_labels: Cluster labels for neurons (from Node2Vec)\n",
    "    target_cluster: Cluster label to deactivate\n",
    "    deactivation_percentage: Percentage of neurons/filters to deactivate within the target cluster\n",
    "    \"\"\"\n",
    "\n",
    "    # Get list of neuron/filter indices that belong to the target cluster\n",
    "    target_indices = [i for i, label in enumerate(node2vec_labels) if label == target_cluster]\n",
    "\n",
    "    # Calculate number of neurons/filters to deactivate\n",
    "    num_to_deactivate = int(len(target_indices) * deactivation_percentage)\n",
    "\n",
    "    # Randomly select neurons/filters to deactivate\n",
    "    random_deactivated = random.sample(target_indices, num_to_deactivate)\n",
    "\n",
    "    with torch.no_grad():  # Disable gradients for weight updates\n",
    "        for name, param in model.named_parameters():\n",
    "            if \"conv\" in name:  # For convolutional layers (filters)\n",
    "                num_filters = param.shape[0]  # Number of filters in the convolutional layer\n",
    "\n",
    "                # Ensure we don't try to deactivate more filters than available\n",
    "                valid_deactivated = [idx for idx in random_deactivated if idx < num_filters]\n",
    "\n",
    "                # Deactivate the selected filters by setting their weights to zero\n",
    "                for idx in valid_deactivated:\n",
    "                    param.data[idx] = 0  # Set filter weights to zero\n",
    "\n",
    "            elif \"fc\" in name:  # For fully connected layers (neurons)\n",
    "                num_neurons = param.shape[0]  # Number of neurons in the fully connected layer\n",
    "\n",
    "                # Ensure we don't try to deactivate more neurons than available\n",
    "                valid_deactivated = [idx for idx in random_deactivated if idx < num_neurons]\n",
    "\n",
    "                # Deactivate the selected neurons by setting their weights to zero\n",
    "                for idx in valid_deactivated:\n",
    "                    param.data[idx] = 0  # Set neuron weights to zero\n",
    "\n",
    "    print(f\"Deactivated {num_to_deactivate} neurons/filters in cluster {target_cluster}\")\n",
    "\n",
    "# Example: Deactivate 20% of neurons/filters in cluster 0\n",
    "deactivate_neurons_by_cluster(model, node2vec_labels, target_cluster=0, deactivation_percentage=.1)\n"
   ]
  }
 ],
 "metadata": {
  "colab": {
   "provenance": []
  },
  "kernelspec": {
   "display_name": "Python 3 (ipykernel)",
   "language": "python",
   "name": "python3"
  },
  "language_info": {
   "codemirror_mode": {
    "name": "ipython",
    "version": 3
   },
   "file_extension": ".py",
   "mimetype": "text/x-python",
   "name": "python",
   "nbconvert_exporter": "python",
   "pygments_lexer": "ipython3",
   "version": "3.9.21"
  },
  "widgets": {
   "application/vnd.jupyter.widget-state+json": {
    "21381fe7a9454ae782e6e50d375af7eb": {
     "model_module": "@jupyter-widgets/controls",
     "model_module_version": "1.5.0",
     "model_name": "HBoxModel",
     "state": {
      "_dom_classes": [],
      "_model_module": "@jupyter-widgets/controls",
      "_model_module_version": "1.5.0",
      "_model_name": "HBoxModel",
      "_view_count": null,
      "_view_module": "@jupyter-widgets/controls",
      "_view_module_version": "1.5.0",
      "_view_name": "HBoxView",
      "box_style": "",
      "children": [
       "IPY_MODEL_a8396ab4b49c44ae8a89682a8fa42a4c",
       "IPY_MODEL_e5dad02ffac64278be0e7009520f288a",
       "IPY_MODEL_8e053502d4c64a1189e20bf7d1681fcd"
      ],
      "layout": "IPY_MODEL_d0b85e4634fc42578db6c128e00155c2"
     }
    },
    "67f854dcf90e459b9d4296b27b8c54ae": {
     "model_module": "@jupyter-widgets/base",
     "model_module_version": "1.2.0",
     "model_name": "LayoutModel",
     "state": {
      "_model_module": "@jupyter-widgets/base",
      "_model_module_version": "1.2.0",
      "_model_name": "LayoutModel",
      "_view_count": null,
      "_view_module": "@jupyter-widgets/base",
      "_view_module_version": "1.2.0",
      "_view_name": "LayoutView",
      "align_content": null,
      "align_items": null,
      "align_self": null,
      "border": null,
      "bottom": null,
      "display": null,
      "flex": null,
      "flex_flow": null,
      "grid_area": null,
      "grid_auto_columns": null,
      "grid_auto_flow": null,
      "grid_auto_rows": null,
      "grid_column": null,
      "grid_gap": null,
      "grid_row": null,
      "grid_template_areas": null,
      "grid_template_columns": null,
      "grid_template_rows": null,
      "height": null,
      "justify_content": null,
      "justify_items": null,
      "left": null,
      "margin": null,
      "max_height": null,
      "max_width": null,
      "min_height": null,
      "min_width": null,
      "object_fit": null,
      "object_position": null,
      "order": null,
      "overflow": null,
      "overflow_x": null,
      "overflow_y": null,
      "padding": null,
      "right": null,
      "top": null,
      "visibility": null,
      "width": null
     }
    },
    "7969477f3092499d9eef1159c496a1a4": {
     "model_module": "@jupyter-widgets/controls",
     "model_module_version": "1.5.0",
     "model_name": "DescriptionStyleModel",
     "state": {
      "_model_module": "@jupyter-widgets/controls",
      "_model_module_version": "1.5.0",
      "_model_name": "DescriptionStyleModel",
      "_view_count": null,
      "_view_module": "@jupyter-widgets/base",
      "_view_module_version": "1.2.0",
      "_view_name": "StyleView",
      "description_width": ""
     }
    },
    "8e053502d4c64a1189e20bf7d1681fcd": {
     "model_module": "@jupyter-widgets/controls",
     "model_module_version": "1.5.0",
     "model_name": "HTMLModel",
     "state": {
      "_dom_classes": [],
      "_model_module": "@jupyter-widgets/controls",
      "_model_module_version": "1.5.0",
      "_model_name": "HTMLModel",
      "_view_count": null,
      "_view_module": "@jupyter-widgets/controls",
      "_view_module_version": "1.5.0",
      "_view_name": "HTMLView",
      "description": "",
      "description_tooltip": null,
      "layout": "IPY_MODEL_d50e8c6b8b454f27a00896b49ed6f501",
      "placeholder": "​",
      "style": "IPY_MODEL_90217509085a432cabc3ef726340bf17",
      "value": " 736/736 [01:08&lt;00:00,  6.56it/s]"
     }
    },
    "90217509085a432cabc3ef726340bf17": {
     "model_module": "@jupyter-widgets/controls",
     "model_module_version": "1.5.0",
     "model_name": "DescriptionStyleModel",
     "state": {
      "_model_module": "@jupyter-widgets/controls",
      "_model_module_version": "1.5.0",
      "_model_name": "DescriptionStyleModel",
      "_view_count": null,
      "_view_module": "@jupyter-widgets/base",
      "_view_module_version": "1.2.0",
      "_view_name": "StyleView",
      "description_width": ""
     }
    },
    "a8396ab4b49c44ae8a89682a8fa42a4c": {
     "model_module": "@jupyter-widgets/controls",
     "model_module_version": "1.5.0",
     "model_name": "HTMLModel",
     "state": {
      "_dom_classes": [],
      "_model_module": "@jupyter-widgets/controls",
      "_model_module_version": "1.5.0",
      "_model_name": "HTMLModel",
      "_view_count": null,
      "_view_module": "@jupyter-widgets/controls",
      "_view_module_version": "1.5.0",
      "_view_name": "HTMLView",
      "description": "",
      "description_tooltip": null,
      "layout": "IPY_MODEL_67f854dcf90e459b9d4296b27b8c54ae",
      "placeholder": "​",
      "style": "IPY_MODEL_7969477f3092499d9eef1159c496a1a4",
      "value": "Computing transition probabilities: 100%"
     }
    },
    "d0b85e4634fc42578db6c128e00155c2": {
     "model_module": "@jupyter-widgets/base",
     "model_module_version": "1.2.0",
     "model_name": "LayoutModel",
     "state": {
      "_model_module": "@jupyter-widgets/base",
      "_model_module_version": "1.2.0",
      "_model_name": "LayoutModel",
      "_view_count": null,
      "_view_module": "@jupyter-widgets/base",
      "_view_module_version": "1.2.0",
      "_view_name": "LayoutView",
      "align_content": null,
      "align_items": null,
      "align_self": null,
      "border": null,
      "bottom": null,
      "display": null,
      "flex": null,
      "flex_flow": null,
      "grid_area": null,
      "grid_auto_columns": null,
      "grid_auto_flow": null,
      "grid_auto_rows": null,
      "grid_column": null,
      "grid_gap": null,
      "grid_row": null,
      "grid_template_areas": null,
      "grid_template_columns": null,
      "grid_template_rows": null,
      "height": null,
      "justify_content": null,
      "justify_items": null,
      "left": null,
      "margin": null,
      "max_height": null,
      "max_width": null,
      "min_height": null,
      "min_width": null,
      "object_fit": null,
      "object_position": null,
      "order": null,
      "overflow": null,
      "overflow_x": null,
      "overflow_y": null,
      "padding": null,
      "right": null,
      "top": null,
      "visibility": null,
      "width": null
     }
    },
    "d4c974fb93d549298e54f21366e763a7": {
     "model_module": "@jupyter-widgets/controls",
     "model_module_version": "1.5.0",
     "model_name": "ProgressStyleModel",
     "state": {
      "_model_module": "@jupyter-widgets/controls",
      "_model_module_version": "1.5.0",
      "_model_name": "ProgressStyleModel",
      "_view_count": null,
      "_view_module": "@jupyter-widgets/base",
      "_view_module_version": "1.2.0",
      "_view_name": "StyleView",
      "bar_color": null,
      "description_width": ""
     }
    },
    "d50e8c6b8b454f27a00896b49ed6f501": {
     "model_module": "@jupyter-widgets/base",
     "model_module_version": "1.2.0",
     "model_name": "LayoutModel",
     "state": {
      "_model_module": "@jupyter-widgets/base",
      "_model_module_version": "1.2.0",
      "_model_name": "LayoutModel",
      "_view_count": null,
      "_view_module": "@jupyter-widgets/base",
      "_view_module_version": "1.2.0",
      "_view_name": "LayoutView",
      "align_content": null,
      "align_items": null,
      "align_self": null,
      "border": null,
      "bottom": null,
      "display": null,
      "flex": null,
      "flex_flow": null,
      "grid_area": null,
      "grid_auto_columns": null,
      "grid_auto_flow": null,
      "grid_auto_rows": null,
      "grid_column": null,
      "grid_gap": null,
      "grid_row": null,
      "grid_template_areas": null,
      "grid_template_columns": null,
      "grid_template_rows": null,
      "height": null,
      "justify_content": null,
      "justify_items": null,
      "left": null,
      "margin": null,
      "max_height": null,
      "max_width": null,
      "min_height": null,
      "min_width": null,
      "object_fit": null,
      "object_position": null,
      "order": null,
      "overflow": null,
      "overflow_x": null,
      "overflow_y": null,
      "padding": null,
      "right": null,
      "top": null,
      "visibility": null,
      "width": null
     }
    },
    "e5dad02ffac64278be0e7009520f288a": {
     "model_module": "@jupyter-widgets/controls",
     "model_module_version": "1.5.0",
     "model_name": "FloatProgressModel",
     "state": {
      "_dom_classes": [],
      "_model_module": "@jupyter-widgets/controls",
      "_model_module_version": "1.5.0",
      "_model_name": "FloatProgressModel",
      "_view_count": null,
      "_view_module": "@jupyter-widgets/controls",
      "_view_module_version": "1.5.0",
      "_view_name": "ProgressView",
      "bar_style": "success",
      "description": "",
      "description_tooltip": null,
      "layout": "IPY_MODEL_e9cc5aa98cbb4150b6d6d2f59eded66f",
      "max": 736,
      "min": 0,
      "orientation": "horizontal",
      "style": "IPY_MODEL_d4c974fb93d549298e54f21366e763a7",
      "value": 736
     }
    },
    "e9cc5aa98cbb4150b6d6d2f59eded66f": {
     "model_module": "@jupyter-widgets/base",
     "model_module_version": "1.2.0",
     "model_name": "LayoutModel",
     "state": {
      "_model_module": "@jupyter-widgets/base",
      "_model_module_version": "1.2.0",
      "_model_name": "LayoutModel",
      "_view_count": null,
      "_view_module": "@jupyter-widgets/base",
      "_view_module_version": "1.2.0",
      "_view_name": "LayoutView",
      "align_content": null,
      "align_items": null,
      "align_self": null,
      "border": null,
      "bottom": null,
      "display": null,
      "flex": null,
      "flex_flow": null,
      "grid_area": null,
      "grid_auto_columns": null,
      "grid_auto_flow": null,
      "grid_auto_rows": null,
      "grid_column": null,
      "grid_gap": null,
      "grid_row": null,
      "grid_template_areas": null,
      "grid_template_columns": null,
      "grid_template_rows": null,
      "height": null,
      "justify_content": null,
      "justify_items": null,
      "left": null,
      "margin": null,
      "max_height": null,
      "max_width": null,
      "min_height": null,
      "min_width": null,
      "object_fit": null,
      "object_position": null,
      "order": null,
      "overflow": null,
      "overflow_x": null,
      "overflow_y": null,
      "padding": null,
      "right": null,
      "top": null,
      "visibility": null,
      "width": null
     }
    }
   }
  }
 },
 "nbformat": 4,
 "nbformat_minor": 4
}
